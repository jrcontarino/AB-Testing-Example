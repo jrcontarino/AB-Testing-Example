{
 "cells": [
  {
   "cell_type": "markdown",
   "metadata": {},
   "source": [
    "# A/B Testing Example"
   ]
  },
  {
   "cell_type": "markdown",
   "metadata": {},
   "source": [
    "## Import Packages"
   ]
  },
  {
   "cell_type": "code",
   "execution_count": 30,
   "metadata": {},
   "outputs": [],
   "source": [
    "import pandas as pd\n",
    "import matplotlib.pyplot as plt"
   ]
  },
  {
   "cell_type": "markdown",
   "metadata": {},
   "source": [
    "## Import Data and Inspect Data"
   ]
  },
  {
   "cell_type": "code",
   "execution_count": 27,
   "metadata": {},
   "outputs": [
    {
     "name": "stdout",
     "output_type": "stream",
     "text": [
      "                                user_id utm_source           day  \\\n",
      "0  008b7c6c-7272-471e-b90e-930d548bd8d7     google  6 - Saturday   \n",
      "1  009abb94-5e14-4b6c-bb1c-4f4df7aa7557   facebook    7 - Sunday   \n",
      "2  00f5d532-ed58-4570-b6d2-768df5f41aed    twitter   2 - Tuesday   \n",
      "3  011adc64-0f44-4fd9-a0bb-f1506d2ad439     google   2 - Tuesday   \n",
      "4  012137e6-7ae7-4649-af68-205b4702169c   facebook    7 - Sunday   \n",
      "\n",
      "  ad_click_timestamp experimental_group  \n",
      "0               7:18                  A  \n",
      "1                NaN                  B  \n",
      "2                NaN                  A  \n",
      "3                NaN                  B  \n",
      "4                NaN                  B  \n",
      "<class 'pandas.core.frame.DataFrame'>\n",
      "RangeIndex: 1654 entries, 0 to 1653\n",
      "Data columns (total 5 columns):\n",
      " #   Column              Non-Null Count  Dtype \n",
      "---  ------              --------------  ----- \n",
      " 0   user_id             1654 non-null   object\n",
      " 1   utm_source          1654 non-null   object\n",
      " 2   day                 1654 non-null   object\n",
      " 3   ad_click_timestamp  565 non-null    object\n",
      " 4   experimental_group  1654 non-null   object\n",
      "dtypes: object(5)\n",
      "memory usage: 64.7+ KB\n",
      "None\n"
     ]
    }
   ],
   "source": [
    "ad_clicks = pd.read_csv('ad_clicks.csv')\n",
    "print(ad_clicks.head())\n",
    "print(ad_clicks.info())"
   ]
  },
  {
   "cell_type": "markdown",
   "metadata": {},
   "source": [
    "Our data contains 1654 rows and 5 columns.  For the ad_click_timestamp we have null values that indicate our ad was not clicked on and therefore does not have a clicked timestamp."
   ]
  },
  {
   "cell_type": "markdown",
   "metadata": {},
   "source": [
    "## Analyze Data"
   ]
  },
  {
   "cell_type": "markdown",
   "metadata": {},
   "source": [
    "### Calculate Number of Views from Each utm_source"
   ]
  },
  {
   "cell_type": "code",
   "execution_count": 37,
   "metadata": {},
   "outputs": [
    {
     "name": "stdout",
     "output_type": "stream",
     "text": [
      "----- User views by utm_source -----\n",
      "  utm_source  user_id\n",
      "0      email      255\n",
      "1   facebook      504\n",
      "2     google      680\n",
      "3    twitter      215\n"
     ]
    },
    {
     "data": {
      "image/png": "[encoded data removed]",
      "text/plain": [
       "<Figure size 432x288 with 1 Axes>"
      ]
     },
     "metadata": {
      "needs_background": "light"
     },
     "output_type": "display_data"
    }
   ],
   "source": [
    "## Find Number of Views from each source and save as views\n",
    "views = ad_clicks.groupby('utm_source').user_id.count().reset_index()\n",
    "print(\"-\"*5, \"User views by utm_source\", \"-\"*5)\n",
    "print(views)\n",
    "\n",
    "plt.bar(views['utm_source'], views['user_id'])\n",
    "plt.title('Views From Each Source')\n",
    "plt.show()"
   ]
  },
  {
   "cell_type": "markdown",
   "metadata": {},
   "source": [
    "We have the greated number of views from google and then facebook, and the least from twitter.  But how does this translate to the number of clicks our ads are getting on each site?"
   ]
  },
  {
   "cell_type": "markdown",
   "metadata": {},
   "source": [
    "### Find Percent of People who Clicked on an Ad from each utm_source"
   ]
  },
  {
   "cell_type": "code",
   "execution_count": 48,
   "metadata": {},
   "outputs": [
    {
     "name": "stdout",
     "output_type": "stream",
     "text": [
      "----- Percent of users that clicked on ad by utm_source -----\n",
      "is_click utm_source  False  True  percent_clicked\n",
      "0             email    175    80         0.313725\n",
      "1          facebook    324   180         0.357143\n",
      "2            google    441   239         0.351471\n",
      "3           twitter    149    66         0.306977\n"
     ]
    },
    {
     "data": {
      "image/png": "[encoded data removed]",
      "text/plain": [
       "<Figure size 432x288 with 1 Axes>"
      ]
     },
     "metadata": {
      "needs_background": "light"
     },
     "output_type": "display_data"
    }
   ],
   "source": [
    "## Make a new column to indicate which ads were clicked on\n",
    "ad_clicks['is_click'] = ~ad_clicks.ad_click_timestamp.isnull()\n",
    "#print(ad_clicks.head())\n",
    "\n",
    "## Create clicks by source\n",
    "clicks_by_source = ad_clicks.groupby(['utm_source', 'is_click']).user_id.count().reset_index()\n",
    "\n",
    "## Create pivot table of clicks, source, and percent clicked\n",
    "clicks_pivot = clicks_by_source.pivot(columns = \"is_click\", index = \"utm_source\", values = \"user_id\").reset_index()\n",
    "clicks_pivot['percent_clicked'] = clicks_pivot[True] / (clicks_pivot[True] + clicks_pivot[False])\n",
    "print(\"-\"*5, \"Percent of users that clicked on ad by utm_source\", \"-\"*5)\n",
    "print(clicks_pivot)\n",
    "\n",
    "plt.bar(clicks_pivot['utm_source'], clicks_pivot['percent_clicked'])\n",
    "plt.title(\"Click Percentage from Each Source\")\n",
    "plt.show()"
   ]
  },
  {
   "cell_type": "markdown",
   "metadata": {},
   "source": [
    "It seems like we get the most clicks from facebook and google, with twitter returning the least amount of clicks based on the percent of total amount of people who saw the ad from each source."
   ]
  },
  {
   "cell_type": "markdown",
   "metadata": {},
   "source": [
    "### Calculate A/B Experimental Group Click Percentages"
   ]
  },
  {
   "cell_type": "code",
   "execution_count": 47,
   "metadata": {},
   "outputs": [
    {
     "name": "stdout",
     "output_type": "stream",
     "text": [
      "----- Number of users who clicked vs. those who didn't in each test -----\n",
      "  experimental_group  is_click  user_id\n",
      "0                  A     False      517\n",
      "1                  A      True      310\n",
      "2                  B     False      572\n",
      "3                  B      True      255\n",
      "\n",
      "----- Percent of users who clicked each ad type -----\n",
      "is_click experimental_group  False  True  percent_clicked\n",
      "0                         A    517   310         0.374849\n",
      "1                         B    572   255         0.308343\n"
     ]
    },
    {
     "data": {
      "image/png": "[encoded data removed]",
      "text/plain": [
       "<Figure size 432x288 with 1 Axes>"
      ]
     },
     "metadata": {
      "needs_background": "light"
     },
     "output_type": "display_data"
    }
   ],
   "source": [
    "## \n",
    "ads = ad_clicks.groupby('experimental_group').user_id.count().reset_index\n",
    "#print(ads)\n",
    "ab_click = ad_clicks.groupby(['experimental_group', 'is_click']).user_id.count().reset_index()\n",
    "ab_click_pivot = ab_click.pivot(columns = \"is_click\", index = \"experimental_group\", values = \"user_id\").reset_index()\n",
    "ab_click_pivot['percent_clicked'] = ab_click_pivot[True] / (ab_click_pivot[True] + ab_click_pivot[False])\n",
    "\n",
    "print(\"-\"*5, \"Number of users who clicked vs. those who didn't in each test\", \"-\"*5)\n",
    "print(ab_click)\n",
    "print()\n",
    "print(\"-\"*5, \"Percent of users who clicked each ad type\", \"-\"*5)\n",
    "print(ab_click_pivot)\n",
    "\n",
    "plt.bar(ab_click_pivot['experimental_group'], ab_click_pivot['percent_clicked'])\n",
    "plt.title('A/B Test Result')\n",
    "plt.show()"
   ]
  },
  {
   "cell_type": "markdown",
   "metadata": {},
   "source": [
    "Ad A was more successful than ad B by about 7%.  But can we further break this analysis down?"
   ]
  },
  {
   "cell_type": "markdown",
   "metadata": {},
   "source": [
    "### A/B Test by Day of the Week"
   ]
  },
  {
   "cell_type": "code",
   "execution_count": 53,
   "metadata": {},
   "outputs": [
    {
     "name": "stdout",
     "output_type": "stream",
     "text": [
      "----- Total Ad Click Percentage by Day -----\n",
      "is_click            day  False  True  click_rate\n",
      "0            1 - Monday    151    75    0.331858\n",
      "1           2 - Tuesday    150    88    0.369748\n",
      "2         3 - Wednesday    175    73    0.294355\n",
      "3          4 - Thursday    156    76    0.327586\n",
      "4            5 - Friday    167    89    0.347656\n",
      "5          6 - Saturday    149    87    0.368644\n",
      "6            7 - Sunday    141    77    0.353211\n",
      "\n"
     ]
    },
    {
     "data": {
      "image/png": "[encoded data removed]",
      "text/plain": [
       "<Figure size 432x288 with 1 Axes>"
      ]
     },
     "metadata": {
      "needs_background": "light"
     },
     "output_type": "display_data"
    },
    {
     "name": "stdout",
     "output_type": "stream",
     "text": [
      "----- Ad A Click Percentage by Day -----\n",
      "is_click            day  False  True  click_rate\n",
      "0            1 - Monday     70    43    0.380531\n",
      "1           2 - Tuesday     76    43    0.361345\n",
      "2         3 - Wednesday     86    38    0.306452\n",
      "3          4 - Thursday     69    47    0.405172\n",
      "4            5 - Friday     77    51    0.398438\n",
      "5          6 - Saturday     73    45    0.381356\n",
      "6            7 - Sunday     66    43    0.394495\n",
      "\n"
     ]
    },
    {
     "data": {
      "image/png": "[encoded data removed]",
      "text/plain": [
       "<Figure size 432x288 with 1 Axes>"
      ]
     },
     "metadata": {
      "needs_background": "light"
     },
     "output_type": "display_data"
    },
    {
     "name": "stdout",
     "output_type": "stream",
     "text": [
      "----- Ad B Click Percentage by Day -----\n",
      "is_click            day  False  True  click_rate\n",
      "0            1 - Monday     81    32    0.283186\n",
      "1           2 - Tuesday     74    45    0.378151\n",
      "2         3 - Wednesday     89    35    0.282258\n",
      "3          4 - Thursday     87    29    0.250000\n",
      "4            5 - Friday     90    38    0.296875\n",
      "5          6 - Saturday     76    42    0.355932\n",
      "6            7 - Sunday     75    34    0.311927\n"
     ]
    },
    {
     "data": {
      "image/png": "[encoded data removed]",
      "text/plain": [
       "<Figure size 432x288 with 1 Axes>"
      ]
     },
     "metadata": {
      "needs_background": "light"
     },
     "output_type": "display_data"
    }
   ],
   "source": [
    "## Create variables for each ad type\n",
    "a_clicks = ad_clicks[ad_clicks.experimental_group == \"A\"]\n",
    "b_clicks = ad_clicks[ad_clicks.experimental_group == \"B\"]\n",
    "days = ['Mon', 'Tues', 'Wed', 'Thur', 'Fri', 'Sat', 'Sun']\n",
    "## Calculate number of clicks per day\n",
    "## total\n",
    "total_clicks_day = ad_clicks.groupby(['day', 'is_click']).user_id.count().reset_index()\n",
    "total_clicks_day_pivot = total_clicks_day.pivot(columns = 'is_click', index = 'day', values = 'user_id').reset_index()\n",
    "total_clicks_day_pivot['click_rate'] = total_clicks_day_pivot[True]/(total_clicks_day_pivot[True] + total_clicks_day_pivot[False])\n",
    "print(\"-\"*5, \"Total Ad Click Percentage by Day\", \"-\"*5)\n",
    "print(total_clicks_day_pivot)\n",
    "print()\n",
    "plt.bar(days, total_clicks_day_pivot['click_rate'])\n",
    "plt.title('Total Ad Click Percentage by Day')\n",
    "plt.show()\n",
    "\n",
    "## ad A\n",
    "a_clicks_day = a_clicks.groupby(['day', 'is_click']).user_id.count().reset_index()\n",
    "a_clicks_day_pivot = a_clicks_day.pivot(columns = \"is_click\", index = \"day\", values = \"user_id\").reset_index()\n",
    "a_clicks_day_pivot['click_rate'] = a_clicks_day_pivot[True] /(a_clicks_day_pivot[True] + a_clicks_day_pivot[False])\n",
    "print(\"-\"*5, \"Ad A Click Percentage by Day\", \"-\"*5)\n",
    "print(a_clicks_day_pivot)\n",
    "print()\n",
    "plt.bar(days, a_clicks_day_pivot['click_rate'])\n",
    "plt.title('Ad A Click Percentage by Day')\n",
    "plt.show()\n",
    "\n",
    "## ad B\n",
    "b_clicks_day = b_clicks.groupby(['day', 'is_click']).user_id.count().reset_index()\n",
    "b_clicks_day_pivot = b_clicks_day.pivot(columns = \"is_click\", index = \"day\", values = \"user_id\").reset_index()\n",
    "b_clicks_day_pivot['click_rate'] = b_clicks_day_pivot[True] /(b_clicks_day_pivot[True] + b_clicks_day_pivot[False])\n",
    "print(\"-\"*5, \"Ad B Click Percentage by Day\", \"-\"*5)\n",
    "print(b_clicks_day_pivot)\n",
    "plt.bar(days, b_clicks_day_pivot['click_rate'])\n",
    "plt.title('Ad B Click Percentage by Day')\n",
    "plt.show()\n",
    "\n",
    "#print(ad_clicks.head())"
   ]
  },
  {
   "cell_type": "markdown",
   "metadata": {},
   "source": [
    "In general, we get the highest amount of clicks from ads on Tuesday and Saturday and the least on Wednesday.  However, once we break that down by ad type we notice ad A did best on Thursday, Friday, and Sunday while ad B did best Tuesday and Saturday.  Ad B actually did better than ad A on Tuesday.  Looking into a strategy on using ad B on Tuesdays or a mix of ad A and B on Tuesdays and Saturdays might be worth considering."
   ]
  }
 ],
 "metadata": {
  "kernelspec": {
   "display_name": "Python 3",
   "language": "python",
   "name": "python3"
  },
  "language_info": {
   "codemirror_mode": {
    "name": "ipython",
    "version": 3
   },
   "file_extension": ".py",
   "mimetype": "text/x-python",
   "name": "python",
   "nbconvert_exporter": "python",
   "pygments_lexer": "ipython3",
   "version": "3.7.6"
  }
 },
 "nbformat": 4,
 "nbformat_minor": 4
}
